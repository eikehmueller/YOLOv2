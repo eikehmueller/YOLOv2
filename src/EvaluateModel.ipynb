{
 "cells": [
  {
   "cell_type": "code",
   "execution_count": null,
   "metadata": {},
   "outputs": [],
   "source": [
    "# Load saved model from disk\n",
    "model = tf.keras.models.load_model('saved_model_06Jun2022',compile=False)\n",
    "\n",
    "for x in train_data_generator.dataset.batch(1).take(8):\n",
    "    bboxes_true = train_data_generator.target2bboxes(x[1][0,...])\n",
    "    y_pred = model.predict(x[0])\n",
    "    bboxes_pred = train_data_generator.prediction2bboxes(y_pred[0,...],threshold=0.5)\n",
    "    train_image_reader.show_annotated_image({'image':x[0][0,...],'bboxes':bboxes_true},\n",
    "                                             predicted_bboxes=bboxes_pred)\n",
    "    "
   ]
  }
 ],
 "metadata": {
  "interpreter": {
   "hash": "e7370f93d1d0cde622a1f8e1c04877d8463912d04d973331ad4851f04de6915a"
  },
  "kernelspec": {
   "display_name": "Python 3.8.10 64-bit",
   "language": "python",
   "name": "python3"
  },
  "language_info": {
   "codemirror_mode": {
    "name": "ipython",
    "version": 3
   },
   "file_extension": ".py",
   "mimetype": "text/x-python",
   "name": "python",
   "nbconvert_exporter": "python",
   "pygments_lexer": "ipython3",
   "version": "3.8.10"
  },
  "orig_nbformat": 4
 },
 "nbformat": 4,
 "nbformat_minor": 2
}
