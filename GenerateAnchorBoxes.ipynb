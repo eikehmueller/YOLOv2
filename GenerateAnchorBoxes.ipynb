{
 "cells": [
  {
   "cell_type": "markdown",
   "id": "6520cd7e",
   "metadata": {},
   "source": [
    "## Find optimal anchor boxes for YOLOv2\n",
    "\n",
    "Extracts the widths and heights of all bounding boxes in the COCO training dataset and runs k-means clustering with a IoU distance to find the optimal anchor boxes."
   ]
  },
  {
   "cell_type": "code",
   "execution_count": 1,
   "id": "0e75fbc6",
   "metadata": {},
   "outputs": [],
   "source": [
    "%matplotlib inline\n",
    "import matplotlib as mpl\n",
    "from matplotlib import pyplot as plt\n",
    "import json\n",
    "from pycocotools.coco import COCO\n",
    "from anchor_boxes import *"
   ]
  },
  {
   "cell_type": "code",
   "execution_count": 6,
   "id": "f336ed13",
   "metadata": {},
   "outputs": [
    {
     "name": "stdout",
     "output_type": "stream",
     "text": [
      "loading annotations into memory...\n",
      "Done (t=11.71s)\n",
      "creating index...\n",
      "index created!\n"
     ]
    },
    {
     "ename": "KeyboardInterrupt",
     "evalue": "",
     "output_type": "error",
     "traceback": [
      "\u001b[0;31m---------------------------------------------------------------------------\u001b[0m",
      "\u001b[0;31mKeyboardInterrupt\u001b[0m                         Traceback (most recent call last)",
      "\u001b[0;32m<ipython-input-6-ffac6ff45b63>\u001b[0m in \u001b[0;36m<module>\u001b[0;34m\u001b[0m\n\u001b[1;32m     63\u001b[0m \u001b[0mn_anchors\u001b[0m\u001b[0;34m=\u001b[0m\u001b[0;36m5\u001b[0m\u001b[0;34m\u001b[0m\u001b[0;34m\u001b[0m\u001b[0m\n\u001b[1;32m     64\u001b[0m \u001b[0;34m\u001b[0m\u001b[0m\n\u001b[0;32m---> 65\u001b[0;31m \u001b[0mbbox_wh\u001b[0m \u001b[0;34m=\u001b[0m \u001b[0;34m{\u001b[0m\u001b[0;34m'coco'\u001b[0m\u001b[0;34m:\u001b[0m\u001b[0mload_bbox_wh_coco\u001b[0m\u001b[0;34m(\u001b[0m\u001b[0mdata_dir\u001b[0m\u001b[0;34m=\u001b[0m\u001b[0;34m\"../../cocodata/\"\u001b[0m\u001b[0;34m,\u001b[0m\u001b[0mdata_type\u001b[0m \u001b[0;34m=\u001b[0m \u001b[0;34m\"train2017\"\u001b[0m\u001b[0;34m)\u001b[0m\u001b[0;34m}\u001b[0m\u001b[0;34m\u001b[0m\u001b[0;34m\u001b[0m\u001b[0m\n\u001b[0m\u001b[1;32m     66\u001b[0m \u001b[0;34m\u001b[0m\u001b[0m\n\u001b[1;32m     67\u001b[0m \u001b[0;32mfor\u001b[0m \u001b[0mdataset\u001b[0m \u001b[0;32min\u001b[0m \u001b[0mbbox_wh\u001b[0m\u001b[0;34m.\u001b[0m\u001b[0mkeys\u001b[0m\u001b[0;34m(\u001b[0m\u001b[0;34m)\u001b[0m\u001b[0;34m:\u001b[0m\u001b[0;34m\u001b[0m\u001b[0;34m\u001b[0m\u001b[0m\n",
      "\u001b[0;32m<ipython-input-6-ffac6ff45b63>\u001b[0m in \u001b[0;36mload_bbox_wh_coco\u001b[0;34m(data_dir, data_type)\u001b[0m\n\u001b[1;32m     17\u001b[0m         \u001b[0mann_ids\u001b[0m \u001b[0;34m=\u001b[0m \u001b[0mcoco\u001b[0m\u001b[0;34m.\u001b[0m\u001b[0mgetAnnIds\u001b[0m\u001b[0;34m(\u001b[0m\u001b[0mimgIds\u001b[0m\u001b[0;34m=\u001b[0m\u001b[0;34m[\u001b[0m\u001b[0mimg_id\u001b[0m\u001b[0;34m]\u001b[0m\u001b[0;34m)\u001b[0m\u001b[0;34m\u001b[0m\u001b[0;34m\u001b[0m\u001b[0m\n\u001b[1;32m     18\u001b[0m         \u001b[0;32mfor\u001b[0m \u001b[0mann_id\u001b[0m \u001b[0;32min\u001b[0m \u001b[0mann_ids\u001b[0m\u001b[0;34m:\u001b[0m\u001b[0;34m\u001b[0m\u001b[0;34m\u001b[0m\u001b[0m\n\u001b[0;32m---> 19\u001b[0;31m             \u001b[0mannotation\u001b[0m \u001b[0;34m=\u001b[0m \u001b[0mcoco\u001b[0m\u001b[0;34m.\u001b[0m\u001b[0mloadAnns\u001b[0m\u001b[0;34m(\u001b[0m\u001b[0;34m[\u001b[0m\u001b[0mann_id\u001b[0m\u001b[0;34m]\u001b[0m\u001b[0;34m)\u001b[0m\u001b[0;34m\u001b[0m\u001b[0;34m\u001b[0m\u001b[0m\n\u001b[0m\u001b[1;32m     20\u001b[0m             bbox_wh.append([annotation[0]['bbox'][2]/img_info['width'],\n\u001b[1;32m     21\u001b[0m                             annotation[0]['bbox'][3]/img_info['height']])\n",
      "\u001b[0;32m/usr/local/lib/python3.8/dist-packages/pycocotools-2.0-py3.8-linux-x86_64.egg/pycocotools/coco.py\u001b[0m in \u001b[0;36mloadAnns\u001b[0;34m(self, ids)\u001b[0m\n\u001b[1;32m    205\u001b[0m         \"\"\"\n\u001b[1;32m    206\u001b[0m         \u001b[0;32mif\u001b[0m \u001b[0m_isArrayLike\u001b[0m\u001b[0;34m(\u001b[0m\u001b[0mids\u001b[0m\u001b[0;34m)\u001b[0m\u001b[0;34m:\u001b[0m\u001b[0;34m\u001b[0m\u001b[0;34m\u001b[0m\u001b[0m\n\u001b[0;32m--> 207\u001b[0;31m             \u001b[0;32mreturn\u001b[0m \u001b[0;34m[\u001b[0m\u001b[0mself\u001b[0m\u001b[0;34m.\u001b[0m\u001b[0manns\u001b[0m\u001b[0;34m[\u001b[0m\u001b[0mid\u001b[0m\u001b[0;34m]\u001b[0m \u001b[0;32mfor\u001b[0m \u001b[0mid\u001b[0m \u001b[0;32min\u001b[0m \u001b[0mids\u001b[0m\u001b[0;34m]\u001b[0m\u001b[0;34m\u001b[0m\u001b[0;34m\u001b[0m\u001b[0m\n\u001b[0m\u001b[1;32m    208\u001b[0m         \u001b[0;32melif\u001b[0m \u001b[0mtype\u001b[0m\u001b[0;34m(\u001b[0m\u001b[0mids\u001b[0m\u001b[0;34m)\u001b[0m \u001b[0;34m==\u001b[0m \u001b[0mint\u001b[0m\u001b[0;34m:\u001b[0m\u001b[0;34m\u001b[0m\u001b[0;34m\u001b[0m\u001b[0m\n\u001b[1;32m    209\u001b[0m             \u001b[0;32mreturn\u001b[0m \u001b[0;34m[\u001b[0m\u001b[0mself\u001b[0m\u001b[0;34m.\u001b[0m\u001b[0manns\u001b[0m\u001b[0;34m[\u001b[0m\u001b[0mids\u001b[0m\u001b[0;34m]\u001b[0m\u001b[0;34m]\u001b[0m\u001b[0;34m\u001b[0m\u001b[0;34m\u001b[0m\u001b[0m\n",
      "\u001b[0;32m/usr/local/lib/python3.8/dist-packages/pycocotools-2.0-py3.8-linux-x86_64.egg/pycocotools/coco.py\u001b[0m in \u001b[0;36m<listcomp>\u001b[0;34m(.0)\u001b[0m\n\u001b[1;32m    205\u001b[0m         \"\"\"\n\u001b[1;32m    206\u001b[0m         \u001b[0;32mif\u001b[0m \u001b[0m_isArrayLike\u001b[0m\u001b[0;34m(\u001b[0m\u001b[0mids\u001b[0m\u001b[0;34m)\u001b[0m\u001b[0;34m:\u001b[0m\u001b[0;34m\u001b[0m\u001b[0;34m\u001b[0m\u001b[0m\n\u001b[0;32m--> 207\u001b[0;31m             \u001b[0;32mreturn\u001b[0m \u001b[0;34m[\u001b[0m\u001b[0mself\u001b[0m\u001b[0;34m.\u001b[0m\u001b[0manns\u001b[0m\u001b[0;34m[\u001b[0m\u001b[0mid\u001b[0m\u001b[0;34m]\u001b[0m \u001b[0;32mfor\u001b[0m \u001b[0mid\u001b[0m \u001b[0;32min\u001b[0m \u001b[0mids\u001b[0m\u001b[0;34m]\u001b[0m\u001b[0;34m\u001b[0m\u001b[0;34m\u001b[0m\u001b[0m\n\u001b[0m\u001b[1;32m    208\u001b[0m         \u001b[0;32melif\u001b[0m \u001b[0mtype\u001b[0m\u001b[0;34m(\u001b[0m\u001b[0mids\u001b[0m\u001b[0;34m)\u001b[0m \u001b[0;34m==\u001b[0m \u001b[0mint\u001b[0m\u001b[0;34m:\u001b[0m\u001b[0;34m\u001b[0m\u001b[0;34m\u001b[0m\u001b[0m\n\u001b[1;32m    209\u001b[0m             \u001b[0;32mreturn\u001b[0m \u001b[0;34m[\u001b[0m\u001b[0mself\u001b[0m\u001b[0;34m.\u001b[0m\u001b[0manns\u001b[0m\u001b[0;34m[\u001b[0m\u001b[0mids\u001b[0m\u001b[0;34m]\u001b[0m\u001b[0;34m]\u001b[0m\u001b[0;34m\u001b[0m\u001b[0;34m\u001b[0m\u001b[0m\n",
      "\u001b[0;31mKeyboardInterrupt\u001b[0m: "
     ]
    }
   ],
   "source": [
    "def load_bbox_wh_coco(data_dir=\"../../cocodata/\",data_type = \"train2017\"):\n",
    "    \"\"\"Create an a list of all anchor box width and heights\n",
    "\n",
    "    The returned list contains tuples of the form (width, height), where bith\n",
    "    width and height are measured in units of the image size.\n",
    "    \n",
    "    :arg data_dir: directory containing the COCO data\n",
    "    :arg data_type: type of data, e.g. train2017\n",
    "    \"\"\"\n",
    "    ann_file=f\"{data_dir}/annotations/instances_{data_type}.json\"\n",
    "    coco = COCO(ann_file)\n",
    "    cat_ids = coco.getCatIds(catNms=['any'])\n",
    "    img_ids = coco.getImgIds(catIds=cat_ids)\n",
    "    bbox_wh = []\n",
    "    for img_id in img_ids:\n",
    "        img_info = coco.loadImgs([img_id])[0]\n",
    "        ann_ids = coco.getAnnIds(imgIds=[img_id])\n",
    "        for ann_id in ann_ids:\n",
    "            annotation = coco.loadAnns([ann_id])\n",
    "            bbox_wh.append([annotation[0]['bbox'][2]/img_info['width'],\n",
    "                            annotation[0]['bbox'][3]/img_info['height']])\n",
    "        \n",
    "    return np.asarray(bbox_wh)\n",
    "\n",
    "def visualise_anchor_boxes(anchor_boxes):\n",
    "    \"\"\"Print out anchor boxes and plot them\n",
    "    \n",
    "    :arg anchor_boxes: list with tuples of form (width, height) for all anchor boxes    \n",
    "    \"\"\"\n",
    "    print (\"*** Anchor boxes*** \")\n",
    "    for j,anchor_box in enumerate(anchor_boxes):\n",
    "        print (f\"{j} : {anchor_box[0]:5.2f} x {anchor_box[1]:5.2f}\")\n",
    "\n",
    "    # visualise bounding boxes\n",
    "    plt.clf()\n",
    "    plt.figure(figsize=(10, 10))\n",
    "    ax = plt.gca()\n",
    "    ax.set_xlim(-0.5,+0.5)\n",
    "    ax.set_ylim(-0.5,+0.5)\n",
    "    for j,anchor_box in enumerate(anchor_boxes):\n",
    "        w,h = anchor_box[0], anchor_box[1]\n",
    "        x,y = -0.5*w,-0.5*h\n",
    "        ax.add_patch(mpl.patches.Rectangle((x,y),w,h,linewidth=2,edgecolor='red',facecolor='blue',alpha=0.2))\n",
    "        plt.text(x+0.002,y+0.002,f\"{j} : {w:5.2f} x {h:5.2f}\")\n",
    "    plt.show()\n",
    "\n",
    "def save_anchor_boxes(anchor_boxes, filename):\n",
    "    \"\"\"Save anchor boxes as a dictionary to json file\n",
    "    \n",
    "    :arg anchor_boxes: list consisting of tuples (width, height) for all anchor boxes\n",
    "    :arg filename: name of json file to save dictionary to\n",
    "    \"\"\"\n",
    "    # Save to json as a dictionary\n",
    "    anchor_box_dict = []\n",
    "    for anchor_box in anchor_boxes:\n",
    "        anchor_box_dict.append({'width':anchor_box[0],'height':anchor_box[1]})\n",
    "    with open(filename,'w',encoding='utf8') as f:\n",
    "        json.dump(anchor_box_dict,f)\n",
    "\n",
    "##############################################################################################\n",
    "\n",
    "# number of anchor boxes (= number of centroids for k-means clustering)\n",
    "n_anchors=5\n",
    "\n",
    "bbox_wh = {'coco':load_bbox_wh_coco(data_dir=\"../../cocodata/\",data_type = \"train2017\")}\n",
    "\n",
    "for dataset in bbox_wh.keys():\n",
    "    print (f\"======== {dataset} ========\")\n",
    "\n",
    "    # k-means clustering using IoU distance\n",
    "    kmeans = KMeans(distanceIoU,n_centroid=n_anchors)\n",
    "    assignments, anchor_boxes = kmeans.cluster(bbox_wh[dataset],maxiter=200)\n",
    "\n",
    "    # visualise anchor boxes\n",
    "    visualise_anchor_boxes(anchor_boxes)\n",
    "\n",
    "    # visualise clustered data\n",
    "    plot_kmeans_data(bbox_wh[dataset], assignments, anchor_boxes,label_x='width',label_y='height')\n",
    "\n",
    "    # save anchor boxes to json file\n",
    "    save_anchor_boxes(anchor_boxes, f\"anchor_boxes.json\")"
   ]
  },
  {
   "cell_type": "code",
   "execution_count": null,
   "id": "b850e418",
   "metadata": {},
   "outputs": [],
   "source": []
  }
 ],
 "metadata": {
  "interpreter": {
   "hash": "e7370f93d1d0cde622a1f8e1c04877d8463912d04d973331ad4851f04de6915a"
  },
  "kernelspec": {
   "display_name": "Python 3.8.10 64-bit",
   "language": "python",
   "name": "python3"
  },
  "language_info": {
   "codemirror_mode": {
    "name": "ipython",
    "version": 3
   },
   "file_extension": ".py",
   "mimetype": "text/x-python",
   "name": "python",
   "nbconvert_exporter": "python",
   "pygments_lexer": "ipython3",
   "version": "3.8.10"
  }
 },
 "nbformat": 4,
 "nbformat_minor": 5
}
