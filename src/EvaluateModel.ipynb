{
 "cells": [
  {
   "cell_type": "code",
   "execution_count": 1,
   "metadata": {},
   "outputs": [],
   "source": [
    "import os\n",
    "use_CPU = False\n",
    "if use_CPU:\n",
    "    os.environ[\"CUDA_VISIBLE_DEVICES\"] = \"-1\"\n",
    "import json\n",
    "import numpy as np\n",
    "import tensorflow as tf\n",
    "from image_reader import COCOImageReader, PascalVOCImageReader\n",
    "from data_generator import DataGeneratorFactory\n",
    "\n",
    "import absl.logging\n",
    "absl.logging.set_verbosity(absl.logging.ERROR)\n",
    "\n",
    "np.random.seed(231417)"
   ]
  },
  {
   "cell_type": "code",
   "execution_count": null,
   "metadata": {},
   "outputs": [],
   "source": [
    "# Load anchor boxes\n",
    "anchor_boxes_filename = \"./data/anchor_boxes_pascalvoc.json\"\n",
    "\n",
    "# Read anchor boxes from json file\n",
    "with open(anchor_boxes_filename, \"r\", encoding=\"utf8\") as f:\n",
    "    anchor_boxes = json.load(f)\n",
    "\n",
    "# Load saved model from disk\n",
    "model = tf.keras.models.load_model('../assets/saved_model_09Jun2022',compile=False)\n",
    "\n",
    "image_reader = PascalVOCImageReader(data_dir=\"../../../pascalvocdata/VOC2012/\",data_type=\"val\",image_size=416,n_tiles=13)\n",
    "data_generator = DataGeneratorFactory(anchor_boxes, image_reader,random_shuffle=True,max_images=None)\n",
    "\n",
    "for x in data_generator.dataset.batch(1).take(8):\n",
    "    bboxes_true = data_generator.target2bboxes(x[1][0,...])\n",
    "    y_pred = model.predict(x[0])\n",
    "    bboxes_pred = data_generator.prediction2bboxes(y_pred[0,...],threshold=0.5)\n",
    "    image_reader.show_annotated_image({'image':x[0][0,...],'bboxes':bboxes_true},\n",
    "                                             predicted_bboxes=bboxes_pred)\n",
    "    "
   ]
  },
  {
   "cell_type": "code",
   "execution_count": null,
   "metadata": {},
   "outputs": [],
   "source": []
  }
 ],
 "metadata": {
  "interpreter": {
   "hash": "949777d72b0d2535278d3dc13498b2535136f6dfe0678499012e853ee9abcab1"
  },
  "kernelspec": {
   "display_name": "Python 3.9.12 64-bit",
   "language": "python",
   "name": "python3"
  },
  "language_info": {
   "codemirror_mode": {
    "name": "ipython",
    "version": 3
   },
   "file_extension": ".py",
   "mimetype": "text/x-python",
   "name": "python",
   "nbconvert_exporter": "python",
   "pygments_lexer": "ipython3",
   "version": "3.9.12"
  },
  "orig_nbformat": 4
 },
 "nbformat": 4,
 "nbformat_minor": 2
}
